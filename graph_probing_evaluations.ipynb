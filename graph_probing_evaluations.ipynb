{
 "cells": [
  {
   "cell_type": "code",
   "execution_count": null,
   "id": "30eaa5a4",
   "metadata": {},
   "outputs": [],
   "source": []
  },
  {
   "cell_type": "code",
   "execution_count": 1,
   "id": "25f55638",
   "metadata": {},
   "outputs": [],
   "source": [
    "import torch.optim as optim\n",
    "import torch\n",
    "import argparse\n",
    "import numpy as np\n",
    "import random\n",
    "import os\n",
    "from torch.nn.functional import cosine_similarity\n",
    "import matplotlib.pyplot as plt\n",
    "import argparse\n",
    "from ogb.graphproppred import PygGraphPropPredDataset\n",
    "from torch_geometric.loader import DataLoader\n",
    "import pandas as pd\n",
    "from probing import *\n",
    "from utils.general import *\n",
    "\n",
    "def get_args_parser():\n",
    "    # Training settings\n",
    "    # ======= Usually default settings\n",
    "    parser = argparse.ArgumentParser(description='GNN baselines on ogbgmol* data with Pytorch Geometrics')\n",
    "    parser.add_argument('--seed', default=0, type=int)\n",
    "    parser.add_argument('--device', type=int, default=0,\n",
    "                        help='which gpu to use if any (default: 0)')\n",
    "    parser.add_argument('--drop_ratio', type=float, default=0.5,\n",
    "                        help='dropout ratio (default: 0.5)')\n",
    "    parser.add_argument('--batch_size', type=int, default=64,\n",
    "                        help='input batch size for training (default: 64)')\n",
    "    parser.add_argument('--num_workers', type=int, default=2,\n",
    "                        help='number of workers (default: 0)')\n",
    "    parser.add_argument('--dataset_name', type=str, default=\"ogbg-molhiv\",\n",
    "                        help='dataset name (default: ogbg-molhiv/moltox21/molpcba)')\n",
    "    parser.add_argument('--feature', type=str, default=\"full\",\n",
    "                        help='full feature or simple feature')\n",
    "    parser.add_argument('--bottle_type', type=str, default='std',\n",
    "                        help='bottleneck type, can be std or sem')\n",
    "    # ==== Model Structure ======\n",
    "        # ----- Backbone\n",
    "    parser.add_argument('--backbone_type', type=str, default='gcn',\n",
    "                        help='backbone type, can be gcn, gin, gcn_virtual, gin_virtual')\n",
    "    parser.add_argument('--emb_dim', type=int, default=300,\n",
    "                        help='dimensionality of hidden units in GNNs (default: 300)')  \n",
    "    parser.add_argument('--num_layer', type=int, default=3,\n",
    "                        help='number of GNN message passing layers (default: 5)')\n",
    "        # ---- SEM\n",
    "    parser.add_argument('--L', type=int, default=15,\n",
    "                        help='No. word in SEM')\n",
    "    parser.add_argument('--V', type=int, default=20,\n",
    "                        help='word size in SEM')\n",
    "                        \n",
    "        # ---- Head-type\n",
    "    parser.add_argument('--head_type', type=str, default='linear',\n",
    "                        help='Head type in interaction, linear or mlp')    \n",
    "    return parser\n",
    "\n",
    "\n",
    "args = get_args_parser()\n",
    "args = args.parse_args(args=[])\n",
    "#args = args.parse_args()\n",
    "args.device = torch.device(\"cuda:\" + str(args.device)) if torch.cuda.is_available() else torch.device(\"cpu\")"
   ]
  },
  {
   "cell_type": "markdown",
   "id": "294217e8",
   "metadata": {},
   "source": [
    "## Prepare for the probing data"
   ]
  },
  {
   "cell_type": "code",
   "execution_count": 2,
   "id": "2877e218",
   "metadata": {
    "scrolled": true
   },
   "outputs": [],
   "source": [
    "if args.dataset_name == 'ogbg-molhiv':\n",
    "    smiles_path = 'E:\\\\P4_Graph\\\\dataset\\\\ogbg_molhiv\\\\mapping\\\\mol.csv.gz'\n",
    "    args.batch_size = 4113\n",
    "elif args.dataset_name == 'ogbg-molpcba':\n",
    "    smiles_path = 'E:\\\\P4_Graph\\\\dataset\\\\ogbg_molpcba\\\\mapping\\\\mol.csv.gz'\n",
    "\n",
    "selected_prop = ['NumSaturatedRings', 'NumAromaticRings', 'NumAromaticCarbocycles', 'fr_aniline', 'fr_ketone_Topliss', \n",
    "                 'fr_ketone', 'fr_bicyclic', 'fr_methoxy', 'fr_para_hydroxylation', 'fr_pyridine', 'fr_benzene']\n",
    "\n",
    "dataset = PygGraphPropPredDataset(name = args.dataset_name)\n",
    "args.num_tasks = dataset.num_tasks\n",
    "split_idx = dataset.get_idx_split()\n",
    "valid_loader = DataLoader(dataset[split_idx[\"valid\"]], batch_size=args.batch_size, shuffle=False, drop_last=False,\n",
    "                        num_workers=args.num_workers)\n",
    "test_loader = DataLoader(dataset[split_idx[\"test\"]], batch_size=args.batch_size, shuffle=False, drop_last=False,\n",
    "                        num_workers=args.num_workers)\n",
    "\n",
    "valid_smiles = pd.read_csv(smiles_path).iloc[split_idx['valid']].smiles.values\n",
    "valid_smiles = valid_smiles.tolist()\n",
    "test_smiles = pd.read_csv(smiles_path).iloc[split_idx['test']].smiles.values\n",
    "test_smiles = test_smiles.tolist()\n",
    "\n",
    "valid_desc_names, valid_properties = compute_properties(valid_smiles)\n",
    "test_desc_names, test_properties = compute_properties(test_smiles)"
   ]
  },
  {
   "cell_type": "markdown",
   "id": "c0dc482e",
   "metadata": {},
   "source": [
    "## Prepare the model"
   ]
  },
  {
   "cell_type": "code",
   "execution_count": 3,
   "id": "3f78d135",
   "metadata": {},
   "outputs": [],
   "source": [
    "# ====== Generate features\n",
    "def get_features(args, model,loader):\n",
    "    with torch.no_grad():\n",
    "        for step, batch in enumerate(loader):\n",
    "            batch = batch.to(args.device)\n",
    "            msg, hid = model.task_forward(batch)\n",
    "        msg = msg.reshape(msg.shape[0],-1)\n",
    "        return msg.cpu()"
   ]
  },
  {
   "cell_type": "code",
   "execution_count": 4,
   "id": "a6381030",
   "metadata": {},
   "outputs": [],
   "source": [
    "# ====== Init a model, load parameters\n",
    "model = get_init_net(args)\n",
    "\n",
    "# ====== Generate representations\n",
    "embd_valid = get_features(args,model,valid_loader)\n",
    "embd_test = get_features(args,model,test_loader)"
   ]
  },
  {
   "cell_type": "code",
   "execution_count": 5,
   "id": "476983c5",
   "metadata": {
    "scrolled": true
   },
   "outputs": [
    {
     "name": "stderr",
     "output_type": "stream",
     "text": [
      "100%|██████████████████████████████████████████████████████████████████████████████████| 11/11 [00:03<00:00,  3.42it/s]\n"
     ]
    }
   ],
   "source": [
    "prop = selected_prop[0]\n",
    "performs, rnd_performs = [], []\n",
    "\n",
    "for prop in tqdm(selected_prop):\n",
    "    x_train = embd_valid\n",
    "    y_train = valid_properties[prop].values.copy()\n",
    "    #y_train[y_train>1] = 1 # binarize\n",
    "    x_test = embd_test\n",
    "    y_test = test_properties[prop].values.copy()\n",
    "    #y_test[y_test>1] = 1 # binarize\n",
    "    if y_train.min()==0 and y_train.max()==1:\n",
    "        performs.append(linear_probing(embedding_train=x_train, y_train=y_train, embeding_test=x_test, \n",
    "                                           y_test=y_test, seed=args.seed, scale=True))\n",
    "        np.random.shuffle(y_train)\n",
    "        np.random.shuffle(y_test)\n",
    "        rnd_performs.append(linear_probing(embedding_train=x_train, y_train=y_train, embeding_test=x_test, \n",
    "                                           y_test=y_test, seed=args.seed, scale=True))        \n",
    "    else:\n",
    "        performs.append(linear_probing_regression(embedding_train=x_train, y_train=y_train, embeding_test=x_test, \n",
    "                                           y_test=y_test, seed=args.seed, scale=True))\n",
    "        np.random.shuffle(y_train)\n",
    "        np.random.shuffle(y_test)\n",
    "        rnd_performs.append(linear_probing_regression(embedding_train=x_train, y_train=y_train, embeding_test=x_test, \n",
    "                                           y_test=y_test, seed=args.seed, scale=True))\n"
   ]
  },
  {
   "cell_type": "code",
   "execution_count": 6,
   "id": "1b91783f",
   "metadata": {},
   "outputs": [
    {
     "data": {
      "text/plain": [
       "False"
      ]
     },
     "execution_count": 6,
     "metadata": {},
     "output_type": "execute_result"
    }
   ],
   "source": [
    "y_train.min()==0 and y_train.max()==1"
   ]
  },
  {
   "cell_type": "code",
   "execution_count": 7,
   "id": "a854b1e4",
   "metadata": {},
   "outputs": [],
   "source": [
    "probing_performance = np.array(performs)\n",
    "random_performance = np.array(rnd_performs)\n",
    "perf = pd.DataFrame(np.column_stack((probing_performance, random_performance)),\n",
    "                index=selected_prop,\n",
    "                columns=['MAE', 'AUC', 'rnd_MAE', 'rnd_AUC'])"
   ]
  },
  {
   "cell_type": "code",
   "execution_count": 8,
   "id": "7442a083",
   "metadata": {},
   "outputs": [
    {
     "data": {
      "text/html": [
       "<div>\n",
       "<style scoped>\n",
       "    .dataframe tbody tr th:only-of-type {\n",
       "        vertical-align: middle;\n",
       "    }\n",
       "\n",
       "    .dataframe tbody tr th {\n",
       "        vertical-align: top;\n",
       "    }\n",
       "\n",
       "    .dataframe thead th {\n",
       "        text-align: right;\n",
       "    }\n",
       "</style>\n",
       "<table border=\"1\" class=\"dataframe\">\n",
       "  <thead>\n",
       "    <tr style=\"text-align: right;\">\n",
       "      <th></th>\n",
       "      <th>MAE</th>\n",
       "      <th>AUC</th>\n",
       "      <th>rnd_MAE</th>\n",
       "      <th>rnd_AUC</th>\n",
       "    </tr>\n",
       "  </thead>\n",
       "  <tbody>\n",
       "    <tr>\n",
       "      <th>NumSaturatedRings</th>\n",
       "      <td>0.642593</td>\n",
       "      <td>0.0</td>\n",
       "      <td>1.053616</td>\n",
       "      <td>0.0</td>\n",
       "    </tr>\n",
       "    <tr>\n",
       "      <th>NumAromaticRings</th>\n",
       "      <td>0.852974</td>\n",
       "      <td>0.0</td>\n",
       "      <td>1.367183</td>\n",
       "      <td>0.0</td>\n",
       "    </tr>\n",
       "    <tr>\n",
       "      <th>NumAromaticCarbocycles</th>\n",
       "      <td>0.800669</td>\n",
       "      <td>0.0</td>\n",
       "      <td>1.181130</td>\n",
       "      <td>0.0</td>\n",
       "    </tr>\n",
       "    <tr>\n",
       "      <th>fr_aniline</th>\n",
       "      <td>0.547053</td>\n",
       "      <td>0.0</td>\n",
       "      <td>0.590593</td>\n",
       "      <td>0.0</td>\n",
       "    </tr>\n",
       "    <tr>\n",
       "      <th>fr_ketone_Topliss</th>\n",
       "      <td>0.374211</td>\n",
       "      <td>0.0</td>\n",
       "      <td>0.363322</td>\n",
       "      <td>0.0</td>\n",
       "    </tr>\n",
       "    <tr>\n",
       "      <th>fr_ketone</th>\n",
       "      <td>0.474599</td>\n",
       "      <td>0.0</td>\n",
       "      <td>0.485068</td>\n",
       "      <td>0.0</td>\n",
       "    </tr>\n",
       "    <tr>\n",
       "      <th>fr_bicyclic</th>\n",
       "      <td>1.414670</td>\n",
       "      <td>0.0</td>\n",
       "      <td>1.588079</td>\n",
       "      <td>0.0</td>\n",
       "    </tr>\n",
       "    <tr>\n",
       "      <th>fr_methoxy</th>\n",
       "      <td>0.466182</td>\n",
       "      <td>0.0</td>\n",
       "      <td>0.460634</td>\n",
       "      <td>0.0</td>\n",
       "    </tr>\n",
       "    <tr>\n",
       "      <th>fr_para_hydroxylation</th>\n",
       "      <td>0.497970</td>\n",
       "      <td>0.0</td>\n",
       "      <td>0.525304</td>\n",
       "      <td>0.0</td>\n",
       "    </tr>\n",
       "    <tr>\n",
       "      <th>fr_pyridine</th>\n",
       "      <td>0.317750</td>\n",
       "      <td>0.0</td>\n",
       "      <td>0.307901</td>\n",
       "      <td>0.0</td>\n",
       "    </tr>\n",
       "    <tr>\n",
       "      <th>fr_benzene</th>\n",
       "      <td>0.801324</td>\n",
       "      <td>0.0</td>\n",
       "      <td>1.182332</td>\n",
       "      <td>0.0</td>\n",
       "    </tr>\n",
       "  </tbody>\n",
       "</table>\n",
       "</div>"
      ],
      "text/plain": [
       "                             MAE  AUC   rnd_MAE  rnd_AUC\n",
       "NumSaturatedRings       0.642593  0.0  1.053616      0.0\n",
       "NumAromaticRings        0.852974  0.0  1.367183      0.0\n",
       "NumAromaticCarbocycles  0.800669  0.0  1.181130      0.0\n",
       "fr_aniline              0.547053  0.0  0.590593      0.0\n",
       "fr_ketone_Topliss       0.374211  0.0  0.363322      0.0\n",
       "fr_ketone               0.474599  0.0  0.485068      0.0\n",
       "fr_bicyclic             1.414670  0.0  1.588079      0.0\n",
       "fr_methoxy              0.466182  0.0  0.460634      0.0\n",
       "fr_para_hydroxylation   0.497970  0.0  0.525304      0.0\n",
       "fr_pyridine             0.317750  0.0  0.307901      0.0\n",
       "fr_benzene              0.801324  0.0  1.182332      0.0"
      ]
     },
     "execution_count": 8,
     "metadata": {},
     "output_type": "execute_result"
    }
   ],
   "source": [
    "perf"
   ]
  },
  {
   "cell_type": "code",
   "execution_count": 73,
   "id": "48add695",
   "metadata": {},
   "outputs": [],
   "source": [
    "from sklearn.linear_model import LogisticRegression, LinearRegression\n",
    "lr = LinearRegression()\n",
    "lr.fit(x_train,y_train)\n",
    "\n",
    "pred_test = lr.predict(x_test)"
   ]
  },
  {
   "cell_type": "code",
   "execution_count": 76,
   "id": "d36bdd74",
   "metadata": {},
   "outputs": [
    {
     "data": {
      "text/plain": [
       "0.6187111632234998"
      ]
     },
     "execution_count": 76,
     "metadata": {},
     "output_type": "execute_result"
    }
   ],
   "source": [
    "from sklearn.metrics import mean_absolute_error\n",
    "mean_absolute_error(y_test,pred_test)"
   ]
  },
  {
   "cell_type": "code",
   "execution_count": 9,
   "id": "07c6dfc8",
   "metadata": {},
   "outputs": [
    {
     "name": "stderr",
     "output_type": "stream",
     "text": [
      "100%|████████████████████████████████████████████████████████████████████████████████| 11/11 [00:00<00:00, 5429.84it/s]"
     ]
    },
    {
     "name": "stdout",
     "output_type": "stream",
     "text": [
      "0 10\n",
      "0 15\n",
      "0 12\n",
      "0 6\n",
      "0 10\n",
      "0 10\n",
      "0 25\n",
      "0 8\n",
      "0 6\n",
      "0 6\n",
      "0 12\n"
     ]
    },
    {
     "name": "stderr",
     "output_type": "stream",
     "text": [
      "\n"
     ]
    }
   ],
   "source": [
    "for prop in tqdm(selected_prop):\n",
    "    x_train = embd_valid\n",
    "    y_train = valid_properties[prop].values.copy()\n",
    "    #y_train[y_train>1] = 1 # binarize\n",
    "    x_test = embd_test\n",
    "    y_test = test_properties[prop].values.copy()\n",
    "    #y_test[y_test>1] = 1 # binarize\n",
    "    print(y_train.min(),y_train.max())"
   ]
  },
  {
   "cell_type": "code",
   "execution_count": 78,
   "id": "4cba2485",
   "metadata": {},
   "outputs": [
    {
     "data": {
      "text/plain": [
       "0"
      ]
     },
     "execution_count": 78,
     "metadata": {},
     "output_type": "execute_result"
    }
   ],
   "source": [
    "y_train.min()"
   ]
  },
  {
   "cell_type": "code",
   "execution_count": null,
   "id": "6b7d3635",
   "metadata": {},
   "outputs": [],
   "source": [
    "evaluator = Evaluator(args.dataset_name)"
   ]
  }
 ],
 "metadata": {
  "kernelspec": {
   "display_name": "Python 3 (ipykernel)",
   "language": "python",
   "name": "python3"
  },
  "language_info": {
   "codemirror_mode": {
    "name": "ipython",
    "version": 3
   },
   "file_extension": ".py",
   "mimetype": "text/x-python",
   "name": "python",
   "nbconvert_exporter": "python",
   "pygments_lexer": "ipython3",
   "version": "3.10.4"
  }
 },
 "nbformat": 4,
 "nbformat_minor": 5
}
